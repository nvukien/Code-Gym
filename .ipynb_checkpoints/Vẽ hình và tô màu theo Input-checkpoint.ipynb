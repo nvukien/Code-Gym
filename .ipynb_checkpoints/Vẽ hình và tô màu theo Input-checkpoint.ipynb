{
 "cells": [
  {
   "cell_type": "code",
   "execution_count": 1,
   "id": "f0a206d3",
   "metadata": {},
   "outputs": [
    {
     "name": "stdout",
     "output_type": "stream",
     "text": [
      "Circle and square, what is your favorite shape?:circle\n",
      "What color will it be?, yellow, red or blue? :red\n"
     ]
    },
    {
     "ename": "NameError",
     "evalue": "name 'shareInput' is not defined",
     "output_type": "error",
     "traceback": [
      "\u001b[1;31m---------------------------------------------------------------------------\u001b[0m",
      "\u001b[1;31mNameError\u001b[0m                                 Traceback (most recent call last)",
      "\u001b[1;32m~\\AppData\\Local\\Temp/ipykernel_11408/2454894366.py\u001b[0m in \u001b[0;36m<module>\u001b[1;34m\u001b[0m\n\u001b[0;32m      7\u001b[0m         \u001b[0mt\u001b[0m \u001b[1;33m=\u001b[0m \u001b[0mturtle\u001b[0m\u001b[1;33m.\u001b[0m\u001b[0mScreen\u001b[0m\u001b[1;33m(\u001b[0m\u001b[1;33m)\u001b[0m\u001b[1;33m\u001b[0m\u001b[1;33m\u001b[0m\u001b[0m\n\u001b[0;32m      8\u001b[0m         \u001b[0mt\u001b[0m\u001b[1;33m.\u001b[0m\u001b[0mbgcolor\u001b[0m\u001b[1;33m(\u001b[0m\u001b[1;34m\"black\"\u001b[0m\u001b[1;33m)\u001b[0m\u001b[1;33m\u001b[0m\u001b[1;33m\u001b[0m\u001b[0m\n\u001b[1;32m----> 9\u001b[1;33m         \u001b[0mt\u001b[0m\u001b[1;33m.\u001b[0m\u001b[0mtitle\u001b[0m\u001b[1;33m(\u001b[0m\u001b[0mcolorInput\u001b[0m \u001b[1;33m+\u001b[0m \u001b[0mshareInput\u001b[0m\u001b[1;33m)\u001b[0m\u001b[1;33m\u001b[0m\u001b[1;33m\u001b[0m\u001b[0m\n\u001b[0m\u001b[0;32m     10\u001b[0m \u001b[1;33m\u001b[0m\u001b[0m\n\u001b[0;32m     11\u001b[0m         \u001b[0mdisplayShape\u001b[0m \u001b[1;33m=\u001b[0m \u001b[0mturtle\u001b[0m\u001b[1;33m.\u001b[0m\u001b[0mTurtle\u001b[0m\u001b[1;33m(\u001b[0m\u001b[1;33m)\u001b[0m\u001b[1;33m\u001b[0m\u001b[1;33m\u001b[0m\u001b[0m\n",
      "\u001b[1;31mNameError\u001b[0m: name 'shareInput' is not defined"
     ]
    }
   ],
   "source": [
    "import turtle\n",
    "\n",
    "shapeInput = input('Circle and square, what is your favorite shape?:')\n",
    "if shapeInput == 'circle' or shapeInput == 'square':\n",
    "    colorInput = input('What color will it be?, yellow, red or blue? :')\n",
    "    if colorInput == 'yellow' or colorInput == 'red' or colorInput == 'blue':\n",
    "        t = turtle.Screen()\n",
    "        t.bgcolor(\"black\")\n",
    "        t.title(\"Your Shape\")\n",
    "        \n",
    "        displayShape = turtle.Turtle()\n",
    "        displayShape.shape(shapeInput)\n",
    "        displayShape.color(colorInput)\n",
    "        \n",
    "        turtle.done()\n",
    "        \n",
    "    else:\n",
    "        print(\"Sorry, I don't have this color :(\")\n",
    "else:\n",
    "      print(\"Sorry, I don't have this shape :(\")"
   ]
  }
 ],
 "metadata": {
  "kernelspec": {
   "display_name": "Python 3 (ipykernel)",
   "language": "python",
   "name": "python3"
  },
  "language_info": {
   "codemirror_mode": {
    "name": "ipython",
    "version": 3
   },
   "file_extension": ".py",
   "mimetype": "text/x-python",
   "name": "python",
   "nbconvert_exporter": "python",
   "pygments_lexer": "ipython3",
   "version": "3.10.0"
  }
 },
 "nbformat": 4,
 "nbformat_minor": 5
}
