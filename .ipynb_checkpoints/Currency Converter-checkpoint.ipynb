{
 "cells": [
  {
   "cell_type": "code",
   "execution_count": 1,
   "id": "4bc77e43",
   "metadata": {},
   "outputs": [
    {
     "name": "stdout",
     "output_type": "stream",
     "text": [
      "Nhập số tiền USD cần quy đổi: 50\n",
      "Nhập tỉ giá USD/VNĐ của ngày hôm nay: 23000\n",
      "Số tiền VNĐ tương ứng là:1150000.0\n"
     ]
    }
   ],
   "source": [
    "u = float(input(\"Nhập số tiền USD cần quy đổi: \"))\n",
    "rate = float(input(\"Nhập tỉ giá USD/VNĐ của ngày hôm nay: \"))\n",
    "vnd = u * rate\n",
    "print(\"Số tiền VNĐ tương ứng là:\" + str(vnd))"
   ]
  }
 ],
 "metadata": {
  "kernelspec": {
   "display_name": "Python 3 (ipykernel)",
   "language": "python",
   "name": "python3"
  },
  "language_info": {
   "codemirror_mode": {
    "name": "ipython",
    "version": 3
   },
   "file_extension": ".py",
   "mimetype": "text/x-python",
   "name": "python",
   "nbconvert_exporter": "python",
   "pygments_lexer": "ipython3",
   "version": "3.10.0"
  }
 },
 "nbformat": 4,
 "nbformat_minor": 5
}
