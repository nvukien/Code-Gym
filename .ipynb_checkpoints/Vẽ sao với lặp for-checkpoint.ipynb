{
 "cells": [
  {
   "cell_type": "code",
   "execution_count": 1,
   "id": "0ff6a63f",
   "metadata": {},
   "outputs": [],
   "source": [
    "import turtle\n",
    "#Tạo cửa sổ\n",
    "wn = turtle.Screen()\n",
    "wn.bgcolor(\"black\")\n",
    "wn.title(\"Star\")\n",
    "\n",
    "#Tạo đổi tượng turlte\n",
    "t = turtle.Turtle()\n",
    "t.speed(0)\n",
    "t.color(\"red\")\n",
    "\n",
    "#Vẽ\n",
    "for j in range (1,72):\n",
    "    t.left(5)\n",
    "    for i in range (1,6):\n",
    "        t.left(144)\n",
    "        t.forward(200)\n",
    "turtle.done()"
   ]
  }
 ],
 "metadata": {
  "kernelspec": {
   "display_name": "Python 3 (ipykernel)",
   "language": "python",
   "name": "python3"
  },
  "language_info": {
   "codemirror_mode": {
    "name": "ipython",
    "version": 3
   },
   "file_extension": ".py",
   "mimetype": "text/x-python",
   "name": "python",
   "nbconvert_exporter": "python",
   "pygments_lexer": "ipython3",
   "version": "3.10.0"
  }
 },
 "nbformat": 4,
 "nbformat_minor": 5
}
