{
 "cells": [
  {
   "cell_type": "markdown",
   "id": "5bc93fb0",
   "metadata": {},
   "source": [
    "# Thực hành nhập xuất dữ liệu & chuỗi\n",
    "\n",
    "### Bài tập tra cứu lệnh\n",
    "\n",
    "Nhập vào một chuỗi, kiểm tra xem chuỗi đó có ký tự nào là chữ in hoa hay không, nếu có thì in True, không có thì in False"
   ]
  },
  {
   "cell_type": "code",
   "execution_count": 7,
   "id": "4b3df2ba",
   "metadata": {},
   "outputs": [
    {
     "name": "stdout",
     "output_type": "stream",
     "text": [
      "True\n"
     ]
    }
   ],
   "source": [
    "a = \"Bai tap Thuc Hanh ve Nhap Xuat du lieu và chuoi\"\n",
    "index = 0\n",
    "kt = False\n",
    "while index < len(a):\n",
    "    if a[index].isupper():\n",
    "        kt = True\n",
    "        break\n",
    "print(kt)"
   ]
  },
  {
   "cell_type": "code",
   "execution_count": 8,
   "id": "70593f6e",
   "metadata": {},
   "outputs": [
    {
     "name": "stdout",
     "output_type": "stream",
     "text": [
      "Chuỗi có chữ in hoa\n"
     ]
    }
   ],
   "source": [
    "a = \"Bai tap Thuc Hanh ve Nhap Xuat du lieu và chuoi\"\n",
    "x = a.islower()\n",
    "if x == False:\n",
    "    print('Chuỗi có chữ in hoa')\n",
    "else:\n",
    "    print('Chuỗi không có chữ in hoa')"
   ]
  },
  {
   "cell_type": "markdown",
   "id": "e14eae7c",
   "metadata": {},
   "source": [
    "Nhập vào một chuỗi, kiểm tra xem chuỗi đó có ký tự nào là chữ in thường hay không, nếu có thì in True, không có thì in False"
   ]
  },
  {
   "cell_type": "code",
   "execution_count": null,
   "id": "ab00180c",
   "metadata": {},
   "outputs": [],
   "source": [
    "a = \"Bai tap Thuc Hanh ve Nhap Xuat du lieu và chuoi\"\n",
    "index = 0\n",
    "while index < len(a):\n",
    "    if a[index].isupper() == True:\n",
    "        index += 1\n",
    "    elif a[index].isupper() == True and index == len(a)-1:\n",
    "        print('False')\n",
    "    else:\n",
    "        print('True')\n",
    "        break"
   ]
  },
  {
   "cell_type": "code",
   "execution_count": 9,
   "id": "1b6e0b13",
   "metadata": {},
   "outputs": [
    {
     "name": "stdout",
     "output_type": "stream",
     "text": [
      "Chuỗi có chữ in thường\n"
     ]
    }
   ],
   "source": [
    "a = \"Bai tap Thuc Hanh ve Nhap Xuat du lieu và chuoi\"\n",
    "x = a.isupper()\n",
    "if x == False:\n",
    "    print('Chuỗi có chữ in thường')\n",
    "else:\n",
    "    print('Chuỗi không có chữ in thường')"
   ]
  },
  {
   "cell_type": "markdown",
   "id": "eab86ecf",
   "metadata": {},
   "source": [
    "Nhập vào một chuỗi a và chuỗi b, tìm vị trí đầu tiên xuất hiện chuỗi b trong chuỗi a"
   ]
  },
  {
   "cell_type": "code",
   "execution_count": 10,
   "id": "051eb4af",
   "metadata": {},
   "outputs": [
    {
     "name": "stdout",
     "output_type": "stream",
     "text": [
      "9\n"
     ]
    }
   ],
   "source": [
    "a = \"xin chào các bạn, các bạn làm bài tập\"\n",
    "b = \"các bạn\"\n",
    "x = a.find(\"các bạn\")\n",
    "print(x)"
   ]
  },
  {
   "cell_type": "markdown",
   "id": "9239bc4e",
   "metadata": {},
   "source": [
    "Nhập vào một chuỗi a, hãy xóa từ đầu tiên trong chuỗi a, rồi in ra màn hình"
   ]
  },
  {
   "cell_type": "code",
   "execution_count": 18,
   "id": "b4024341",
   "metadata": {},
   "outputs": [
    {
     "name": "stdout",
     "output_type": "stream",
     "text": [
      "tap Thuc Hanh ve Nhap Xuat du lieu và chuoi\n"
     ]
    }
   ],
   "source": [
    "a = \"Bai tap Thuc Hanh ve Nhap Xuat du lieu và chuoi\"\n",
    "x = a.find(\" \")\n",
    "b = a[x+1:]\n",
    "print(b)"
   ]
  },
  {
   "cell_type": "markdown",
   "id": "05b74fb4",
   "metadata": {},
   "source": [
    "### Bài 1\n",
    "\n",
    "Nhập vào một chuỗi, đếm xem có bao nhiêu từ trong chuỗi kết thúc bằng chữ n"
   ]
  },
  {
   "cell_type": "code",
   "execution_count": null,
   "id": "d126675c",
   "metadata": {},
   "outputs": [],
   "source": [
    "a = \"Bai tap Thuc Hanh ve Nhap Xuat du lieu và chuoi\"\n",
    "a = a + \" \"\n",
    "dem = a.count('n ')\n",
    "print (dem)"
   ]
  },
  {
   "cell_type": "markdown",
   "id": "53a78d35",
   "metadata": {},
   "source": [
    "### Bài 2\n",
    "\n",
    "Nhập vào một chuỗi, kiểm tra xem chuỗi đó có ký tự hoa hoặc ký tự thường hay không."
   ]
  },
  {
   "cell_type": "code",
   "execution_count": null,
   "id": "f5be8c39",
   "metadata": {},
   "outputs": [],
   "source": [
    "a = \"Bai tap Thuc Hanh ve Nhap Xuat du lieu và chuoi\"\n",
    "index = 0\n",
    "kthoa = False\n",
    "ktthuong = False\n",
    "while index < len(a):\n",
    "    if a[index].isupper() == True:\n",
    "        kthoa = True\n",
    "        break\n",
    "    index += 1\n",
    "while index < len(a):\n",
    "    if a[index].islower() == True:\n",
    "        ktthuong = True\n",
    "        break\n",
    "    index += 1\n",
    "if kthoa == True and ktthuong == False:\n",
    "    print('Chuỗi a chỉ có ký tự in hoa')\n",
    "elif kthoa == False and ktthuong == True:\n",
    "    print('Chuỗi a chỉ có ký tự in thường')\n",
    "else:\n",
    "    print('Chuỗi a có cả ký tự hoa và ký tự thường')"
   ]
  },
  {
   "cell_type": "markdown",
   "id": "64ca662e",
   "metadata": {},
   "source": [
    "### Bài 3\n",
    "\n",
    "Nhập vào một chuỗi, kiểm tra tính đối xứng của chuỗi đó"
   ]
  },
  {
   "cell_type": "code",
   "execution_count": 4,
   "id": "749f4136",
   "metadata": {
    "scrolled": false
   },
   "outputs": [
    {
     "name": "stdout",
     "output_type": "stream",
     "text": [
      "Nhập vào chuỗi muốn kiểm tra: 123454321\n",
      "Chuỗi đối xứng\n"
     ]
    }
   ],
   "source": [
    "old_str = str(input('Nhập vào chuỗi muốn kiểm tra: '))\n",
    "new_str_list = list(old_str)\n",
    "new_str_list.reverse()\n",
    "new_str = ''.join(new_str_list)\n",
    "\n",
    "if new_str == old_str:\n",
    "    print('Chuỗi đối xứng')\n",
    "else:\n",
    "    print('Chuỗi không đối xứng')"
   ]
  },
  {
   "cell_type": "code",
   "execution_count": 23,
   "id": "d02e00ad",
   "metadata": {},
   "outputs": [
    {
     "name": "stdout",
     "output_type": "stream",
     "text": [
      "Nhập vào chuỗi muốn kiểm tra: 123454321\n",
      "a là chuỗi đối xứng\n"
     ]
    }
   ],
   "source": [
    "a = str(input('Nhập vào chuỗi muốn kiểm tra: '))\n",
    "index = 0\n",
    "c = -1\n",
    "kt = True\n",
    "while index < len(a)/2:\n",
    "    if a[index] != a[c]:\n",
    "        kt = False\n",
    "        break\n",
    "    index += 1\n",
    "    c -= 1\n",
    "if kt == True:\n",
    "    print(\"a là chuỗi đối xứng\")\n",
    "else:\n",
    "    print(\"a không là chuỗi đối xứng\")"
   ]
  },
  {
   "cell_type": "markdown",
   "id": "85dd8fef",
   "metadata": {},
   "source": [
    "### Bài 4\n",
    "\n",
    "Nhập vào một chuỗi, in ra những ký tự in hoa trong chuỗi đó"
   ]
  },
  {
   "cell_type": "code",
   "execution_count": 13,
   "id": "0d099247",
   "metadata": {},
   "outputs": [
    {
     "name": "stdout",
     "output_type": "stream",
     "text": [
      "H\n",
      "X\n",
      "C\n",
      "3 ký tự in hoa\n"
     ]
    }
   ],
   "source": [
    "e = \"Hôm nay học Xử lý Chuỗi\"\n",
    "count = 0\n",
    "index = 0\n",
    "while index < len(e):\n",
    "    if e[index].isupper() == True:\n",
    "        count = count + 1\n",
    "        print(e[index])\n",
    "    index +=1\n",
    "print(count, \"ký tự in hoa\")"
   ]
  },
  {
   "cell_type": "markdown",
   "id": "1373dc74",
   "metadata": {},
   "source": [
    "### Bài 5\n",
    "\n",
    "Nhập vào một chuỗi, tìm các ký tự chỉ xuất hiện một lần trong chuỗi (nếu xuất hiện 1 lần in true, xuất hiện nhiều lần in false)\n",
    "\n",
    "Ví dụ:\n",
    "\n",
    "Nhập chuỗi: \"ABAbc\"\n",
    "\n",
    "In:\n",
    "\n",
    "A: False\n",
    "\n",
    "B: True\n",
    "\n",
    "A: False\n",
    "\n",
    "b: True\n",
    "\n",
    "c: True"
   ]
  },
  {
   "cell_type": "code",
   "execution_count": 19,
   "id": "a93bc53d",
   "metadata": {},
   "outputs": [
    {
     "name": "stdout",
     "output_type": "stream",
     "text": [
      "A False\n",
      "B True\n",
      "A False\n",
      "b True\n",
      "c True\n"
     ]
    }
   ],
   "source": [
    "a = \"ABAbc\"\n",
    "index = 0\n",
    "\n",
    "while index < len(a):\n",
    "    dem = a.count(a[index])\n",
    "    if dem == 1:\n",
    "        print(a[index],\"True\")\n",
    "    else:\n",
    "        print(a[index], \"False\") \n",
    "    index += 1\n",
    "    \n",
    "\n"
   ]
  },
  {
   "cell_type": "markdown",
   "id": "69bebf4c",
   "metadata": {},
   "source": [
    "### Bài 6\n",
    "\n",
    "Nhập vào một chuỗi, kiểm tra trong chuỗi có con số hay không, nếu có in True, không có in False"
   ]
  },
  {
   "cell_type": "code",
   "execution_count": 1,
   "id": "1b4eab4f",
   "metadata": {},
   "outputs": [
    {
     "name": "stdout",
     "output_type": "stream",
     "text": [
      "False\n"
     ]
    }
   ],
   "source": [
    "a = \"ABAbc\"\n",
    "index = 0\n",
    "kt = False\n",
    "while index < len(a):\n",
    "    if a[index].isdigit() == True:\n",
    "        kt = True\n",
    "        print('True')\n",
    "        break\n",
    "    else:\n",
    "        kt = False\n",
    "    index += 1\n",
    "if kt == False:\n",
    "    print('False')\n",
    "    "
   ]
  },
  {
   "cell_type": "markdown",
   "id": "1e51403c",
   "metadata": {},
   "source": [
    "### Bài 7\n",
    "\n",
    "Nhập vào một chuỗi, tách những con số có trong chuỗi ra rồi tính tổng của chúng\n",
    "\n",
    "In tổng lên màn hình"
   ]
  },
  {
   "cell_type": "code",
   "execution_count": 25,
   "id": "a34e349d",
   "metadata": {},
   "outputs": [
    {
     "name": "stdout",
     "output_type": "stream",
     "text": [
      "15\n"
     ]
    }
   ],
   "source": [
    "a = \"ABAbc12345\"\n",
    "index = 0\n",
    "tong = 0\n",
    "while index < len(a):\n",
    "    if a[index].isdigit() == True:\n",
    "        tong += int(a[index])\n",
    "    index += 1\n",
    "print(tong)"
   ]
  },
  {
   "cell_type": "markdown",
   "id": "e951779d",
   "metadata": {},
   "source": [
    "### Bài 8\n",
    "\n",
    "Nhập vào một chuỗi, đảo ngược chuỗi đã nhập rồi in ra màn hình"
   ]
  },
  {
   "cell_type": "code",
   "execution_count": 3,
   "id": "9305f0f1",
   "metadata": {},
   "outputs": [
    {
     "name": "stdout",
     "output_type": "stream",
     "text": [
      "Nhập vào chuỗi muốn kiểm tra: Kien dep trai\n",
      "iart ped neiK\n"
     ]
    }
   ],
   "source": [
    "old_str = str(input('Nhập vào chuỗi muốn kiểm tra: '))\n",
    "new_str_list = list(old_str)\n",
    "new_str_list.reverse()\n",
    "new_str = ''.join(new_str_list)\n",
    "print(new_str)"
   ]
  },
  {
   "cell_type": "code",
   "execution_count": 27,
   "id": "f2d53cfc",
   "metadata": {},
   "outputs": [
    {
     "name": "stdout",
     "output_type": "stream",
     "text": [
      "Nhập vào chuỗi muốn kiểm tra: kien123kien345\n",
      "543neik321neik\n"
     ]
    }
   ],
   "source": [
    "a = str(input('Nhập vào chuỗi muốn kiểm tra: '))\n",
    "index = 0\n",
    "c = -1\n",
    "new_str = \"\"\n",
    "while index < len(a):\n",
    "    new_str += a[c]\n",
    "    index += 1\n",
    "    c -= 1\n",
    "print(new_str)\n"
   ]
  },
  {
   "cell_type": "markdown",
   "id": "04194b5c",
   "metadata": {},
   "source": [
    "### Bài 9\n",
    "\n",
    "Nhập vào một chuỗi, kiểm tra xem mỗi từ trong chuỗi có được viết hoa chữ cái đầu hay không, nếu tất cả đều được viết hoa thì in ra True, còn không thì in ra False\n",
    "\n",
    "Trong trường hợp là False, hãy viết hoa tất cả các chữ cái đầu của mỗi từ rồi in lên màn hình\n",
    "\n",
    "Cách làm thông thường:"
   ]
  },
  {
   "cell_type": "code",
   "execution_count": 30,
   "id": "9f947c7d",
   "metadata": {},
   "outputs": [
    {
     "name": "stdout",
     "output_type": "stream",
     "text": [
      "Hôm Nay Học Xử Lý Chuỗi \n"
     ]
    }
   ],
   "source": [
    "a = \"Hôm nay học Xử lý Chuỗi\"\n",
    "a += \" \"\n",
    "index = 0\n",
    "kt = True\n",
    "while index < len(a):\n",
    "    if a[index].isupper() == False and a[index - 1] == \" \":\n",
    "        kt = False\n",
    "        x = a[index].upper()\n",
    "        a = a[:index] + x + a[index+1:]\n",
    "    index +=1\n",
    "print(a)"
   ]
  },
  {
   "cell_type": "markdown",
   "id": "f43e32af",
   "metadata": {},
   "source": [
    "Cách sử dụng lệnh có sẵn:"
   ]
  },
  {
   "cell_type": "code",
   "execution_count": 33,
   "id": "714f1412",
   "metadata": {},
   "outputs": [
    {
     "name": "stdout",
     "output_type": "stream",
     "text": [
      "False \n",
      " Hôm Nay Học Xử Lý Chuỗi\n"
     ]
    }
   ],
   "source": [
    "a = \"Hôm nay học Xử lý Chuỗi\"\n",
    "x = a.title()\n",
    "if x == a:\n",
    "    print(True, \"\\n\" ,x)\n",
    "else:\n",
    "    print(False,\"\\n\",x)"
   ]
  }
 ],
 "metadata": {
  "kernelspec": {
   "display_name": "Python 3 (ipykernel)",
   "language": "python",
   "name": "python3"
  },
  "language_info": {
   "codemirror_mode": {
    "name": "ipython",
    "version": 3
   },
   "file_extension": ".py",
   "mimetype": "text/x-python",
   "name": "python",
   "nbconvert_exporter": "python",
   "pygments_lexer": "ipython3",
   "version": "3.10.0"
  }
 },
 "nbformat": 4,
 "nbformat_minor": 5
}
