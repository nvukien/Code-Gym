{
 "cells": [
  {
   "cell_type": "code",
   "execution_count": 1,
   "id": "4ae01943",
   "metadata": {},
   "outputs": [],
   "source": [
    "import turtle\n",
    "import random\n",
    "\n",
    "number = random.uniform(0, 3)\n",
    "intNumber = int(number)\n",
    "\n",
    "t = turtle.Screen()\n",
    "t.bgcolor('black')\n",
    "t.title('circle')\n",
    "\n",
    "ball = turtle.Turtle()\n",
    "ball.shape('circle')\n",
    "\n",
    "if intNumber < 1:\n",
    "    ball.color('green')\n",
    "elif intNumber < 2:\n",
    "    ball.color('yellow')\n",
    "elif intNumber < 3:\n",
    "    ball.color('red')\n",
    " \n",
    "turtle.done()"
   ]
  }
 ],
 "metadata": {
  "kernelspec": {
   "display_name": "Python 3 (ipykernel)",
   "language": "python",
   "name": "python3"
  },
  "language_info": {
   "codemirror_mode": {
    "name": "ipython",
    "version": 3
   },
   "file_extension": ".py",
   "mimetype": "text/x-python",
   "name": "python",
   "nbconvert_exporter": "python",
   "pygments_lexer": "ipython3",
   "version": "3.10.0"
  }
 },
 "nbformat": 4,
 "nbformat_minor": 5
}
