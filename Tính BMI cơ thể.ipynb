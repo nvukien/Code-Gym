{
 "cells": [
  {
   "cell_type": "code",
   "execution_count": 2,
   "id": "d52de11a",
   "metadata": {},
   "outputs": [
    {
     "name": "stdout",
     "output_type": "stream",
     "text": [
      "Hãy nhập chiều cao: 175\n",
      "Hãy nhập cân nặng: 70\n",
      "Gầy cấp độ III\n"
     ]
    }
   ],
   "source": [
    "cao = int(input(\"Hãy nhập chiều cao: \"))\n",
    "nang = int(input(\"Hãy nhập cân nặng: \"))\n",
    "\n",
    "BMI = nang / (cao ** 2)\n",
    "\n",
    "#Nếu BMI > 40: in ra béo phì cấp độ III\n",
    "if BMI > 40:\n",
    "    print ('Béo phì cấp độ III')\n",
    "elif 35 <= BMI < 40:\n",
    "    print ('Béo phì cấp độ II')\n",
    "elif 30 <= BMI < 35:\n",
    "    print ('Béo phì cấp độ I')\n",
    "elif 25 <= BMI < 30:\n",
    "    print ('Thừa cân')\n",
    "elif 18.5<= BMI < 25:\n",
    "    print ('Bình thường')\n",
    "elif 17 <= BMI < 18.5:\n",
    "    print ('Gầy cấp độ I')\n",
    "elif 16<= BMI < 17:\n",
    "    print ('Gầy cấp độ II')\n",
    "elif BMI < 16:\n",
    "    print ('Gầy cấp độ III')\n",
    "else:\n",
    "    print ('Lỗi dữ liệu')\n"
   ]
  }
 ],
 "metadata": {
  "kernelspec": {
   "display_name": "Python 3 (ipykernel)",
   "language": "python",
   "name": "python3"
  },
  "language_info": {
   "codemirror_mode": {
    "name": "ipython",
    "version": 3
   },
   "file_extension": ".py",
   "mimetype": "text/x-python",
   "name": "python",
   "nbconvert_exporter": "python",
   "pygments_lexer": "ipython3",
   "version": "3.10.0"
  }
 },
 "nbformat": 4,
 "nbformat_minor": 5
}
