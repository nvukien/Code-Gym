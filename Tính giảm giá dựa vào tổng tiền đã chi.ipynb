{
 "cells": [
  {
   "cell_type": "code",
   "execution_count": 5,
   "id": "35bcc788",
   "metadata": {},
   "outputs": [
    {
     "name": "stdout",
     "output_type": "stream",
     "text": [
      "Give me a price: 150\n",
      "Total:  100\n"
     ]
    }
   ],
   "source": [
    "num = int(input(\"Give me a price: \"))\n",
    "if num >= 150:\n",
    "\tprint(\"Total: \", num - 50)\n",
    "elif num >= 100:\n",
    "\tprint(\"Total: \", num - 25)\n",
    "elif num >= 75:\n",
    "\tprint(\"Total: \", num - 15)\n",
    "else:\n",
    "    print(\"Total: \", num)"
   ]
  }
 ],
 "metadata": {
  "kernelspec": {
   "display_name": "Python 3 (ipykernel)",
   "language": "python",
   "name": "python3"
  },
  "language_info": {
   "codemirror_mode": {
    "name": "ipython",
    "version": 3
   },
   "file_extension": ".py",
   "mimetype": "text/x-python",
   "name": "python",
   "nbconvert_exporter": "python",
   "pygments_lexer": "ipython3",
   "version": "3.10.0"
  }
 },
 "nbformat": 4,
 "nbformat_minor": 5
}
