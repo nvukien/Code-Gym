{
 "cells": [
  {
   "cell_type": "code",
   "execution_count": 4,
   "id": "fe530b9f",
   "metadata": {},
   "outputs": [],
   "source": [
    "x = 10.0\n",
    "\n",
    "y = (x < 100.0) and isinstance(x, float)"
   ]
  }
 ],
 "metadata": {
  "kernelspec": {
   "display_name": "Python 3 (ipykernel)",
   "language": "python",
   "name": "python3"
  },
  "language_info": {
   "codemirror_mode": {
    "name": "ipython",
    "version": 3
   },
   "file_extension": ".py",
   "mimetype": "text/x-python",
   "name": "python",
   "nbconvert_exporter": "python",
   "pygments_lexer": "ipython3",
   "version": "3.10.0"
  }
 },
 "nbformat": 4,
 "nbformat_minor": 5
}
