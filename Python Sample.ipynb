{
 "cells": [
  {
   "cell_type": "code",
   "execution_count": 5,
   "id": "fe080196",
   "metadata": {},
   "outputs": [
    {
     "name": "stdout",
     "output_type": "stream",
     "text": [
      "Tạo dòng Code Python đầu tiên\n"
     ]
    }
   ],
   "source": [
    "#Học Python\n",
    "print(\"Tạo dòng Code Python đầu tiên\")"
   ]
  },
  {
   "cell_type": "markdown",
   "id": "9b826164",
   "metadata": {},
   "source": [
    "Tự tạo dòng Code Python đầu tiên"
   ]
  }
 ],
 "metadata": {
  "kernelspec": {
   "display_name": "Python 3 (ipykernel)",
   "language": "python",
   "name": "python3"
  },
  "language_info": {
   "codemirror_mode": {
    "name": "ipython",
    "version": 3
   },
   "file_extension": ".py",
   "mimetype": "text/x-python",
   "name": "python",
   "nbconvert_exporter": "python",
   "pygments_lexer": "ipython3",
   "version": "3.10.0"
  }
 },
 "nbformat": 4,
 "nbformat_minor": 5
}
